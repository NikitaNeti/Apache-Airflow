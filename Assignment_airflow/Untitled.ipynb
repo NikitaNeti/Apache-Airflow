{
 "cells": [
  {
   "cell_type": "code",
   "execution_count": 1,
   "id": "7c876aa2",
   "metadata": {},
   "outputs": [
    {
     "name": "stderr",
     "output_type": "stream",
     "text": [
      "23/07/03 15:13:02 WARN Utils: Your hostname, neosoft-Latitude-E5270 resolves to a loopback address: 127.0.1.1; using 10.0.29.173 instead (on interface enp0s31f6)\n",
      "23/07/03 15:13:02 WARN Utils: Set SPARK_LOCAL_IP if you need to bind to another address\n",
      "Setting default log level to \"WARN\".\n",
      "To adjust logging level use sc.setLogLevel(newLevel). For SparkR, use setLogLevel(newLevel).\n",
      "23/07/03 15:13:03 WARN NativeCodeLoader: Unable to load native-hadoop library for your platform... using builtin-java classes where applicable\n"
     ]
    }
   ],
   "source": [
    "from pyspark.sql import SparkSession\n",
    "from pyspark import SparkConf\n",
    "\n",
    "# Set the driver class path\n",
    "spark_jars_packages = \"/home/neosoft/Videos/mysql-connector-j-8.0.33.jar\"\n",
    "spark_conf = SparkConf().set(\"spark.driver.extraClassPath\", spark_jars_packages)\n",
    "\n",
    "# Create the SparkSession with the configured SparkConf\n",
    "spark = SparkSession.builder.config(conf=spark_conf).getOrCreate()\n",
    "\n",
    "\n",
    "jdbc_url = \"jdbc:mysql://localhost:3306/my_db\"\n",
    "properties = {\n",
    "    \"user\": \"root\",\n",
    "    \"password\": \"root\",\n",
    "    \"driver\": \"com.mysql.cj.jdbc.Driver\"\n",
    "}\n",
    "table_name = 'Customers'\n",
    "df = spark.read.jdbc(jdbc_url, table_name, properties=properties)\n",
    "\n",
    "# Process your DataFrame or perform other operations\n"
   ]
  },
  {
   "cell_type": "code",
   "execution_count": 7,
   "id": "ab8020ee",
   "metadata": {},
   "outputs": [
    {
     "name": "stdout",
     "output_type": "stream",
     "text": [
      "+-----------+----------+---------+---+-------+\n",
      "|customer_id|first_name|last_name|age|country|\n",
      "+-----------+----------+---------+---+-------+\n",
      "|          1|      John|      Doe| 31|    USA|\n",
      "|          2|    Robert|     luna| 22|    USA|\n",
      "|          3|     David|  Robison| 22|     UK|\n",
      "|          4|      jOhn|Reinhardt| 25|     UK|\n",
      "|          5|     James|     Bond| 48|    USA|\n",
      "|          6|    Nikita|     Neti| 24|  India|\n",
      "+-----------+----------+---------+---+-------+\n",
      "\n"
     ]
    }
   ],
   "source": [
    "table_name = 'Customers'\n",
    "df1 = spark.read.jdbc(jdbc_url, table_name, properties=properties)\n",
    "df1.show()"
   ]
  },
  {
   "cell_type": "code",
   "execution_count": 8,
   "id": "2f7c68a5",
   "metadata": {},
   "outputs": [
    {
     "name": "stdout",
     "output_type": "stream",
     "text": [
      "+--------+---------+--------+------+-----------+\n",
      "|order_id|     item|quantity|amount|customer_id|\n",
      "+--------+---------+--------+------+-----------+\n",
      "|       1| Keyboard|       2|   400|          4|\n",
      "|       2|    Mouse|       3|   300|          4|\n",
      "|       3|  Monitor|       2| 12000|          3|\n",
      "|       4|Keyborard|       3|   400|          1|\n",
      "|       5| Mousepad|       1|   250|          2|\n",
      "+--------+---------+--------+------+-----------+\n",
      "\n"
     ]
    }
   ],
   "source": [
    "table_name = 'Orders'\n",
    "df2 = spark.read.jdbc(jdbc_url, table_name, properties=properties)\n",
    "df2.show()"
   ]
  },
  {
   "cell_type": "code",
   "execution_count": 9,
   "id": "a2cdb7c2",
   "metadata": {},
   "outputs": [
    {
     "name": "stdout",
     "output_type": "stream",
     "text": [
      "+-----------+----------+---------+---+-------+\n",
      "|customer_id|first_name|last_name|age|country|\n",
      "+-----------+----------+---------+---+-------+\n",
      "|          1|      John|      Doe| 31|    USA|\n",
      "|          5|     James|     Bond| 48|    USA|\n",
      "+-----------+----------+---------+---+-------+\n",
      "\n"
     ]
    }
   ],
   "source": [
    "filtered_df = df1.filter(df1.age > 30)\n",
    "filtered_df.show()"
   ]
  },
  {
   "cell_type": "code",
   "execution_count": 10,
   "id": "6551c054",
   "metadata": {},
   "outputs": [],
   "source": [
    "output_path = \"/home/neosoft/Documents/Assignment_airflow/result.csv\" \n"
   ]
  },
  {
   "cell_type": "code",
   "execution_count": 11,
   "id": "51f0dcc0",
   "metadata": {},
   "outputs": [],
   "source": [
    "filtered_df.write.csv(output_path, header=True)"
   ]
  },
  {
   "cell_type": "code",
   "execution_count": null,
   "id": "32f18083",
   "metadata": {},
   "outputs": [],
   "source": []
  }
 ],
 "metadata": {
  "kernelspec": {
   "display_name": "Python 3.8.10 ('py_env': venv)",
   "language": "python",
   "name": "python3"
  },
  "language_info": {
   "codemirror_mode": {
    "name": "ipython",
    "version": 3
   },
   "file_extension": ".py",
   "mimetype": "text/x-python",
   "name": "python",
   "nbconvert_exporter": "python",
   "pygments_lexer": "ipython3",
   "version": "3.8.10"
  },
  "vscode": {
   "interpreter": {
    "hash": "38d8562e21db42c56d98761ebb55091fe03ee6773c1866e9833704e05ef30df5"
   }
  }
 },
 "nbformat": 4,
 "nbformat_minor": 5
}
